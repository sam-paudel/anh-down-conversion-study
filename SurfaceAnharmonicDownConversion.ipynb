{
 "cells": [
  {
   "cell_type": "markdown",
   "metadata": {
    "tags": []
   },
   "source": [
    "## Surface-Mediated Anharmonic Down Conversion Study\n",
    "Study of pulse observables as a function of the \"scaling parameter\". The scaling parameter is a constant which scales the average of surface anharmonic decay curves."
   ]
  },
  {
   "cell_type": "code",
   "execution_count": null,
   "metadata": {
    "tags": []
   },
   "outputs": [],
   "source": [
    "# Imported required modules\n",
    "import matplotlib.pyplot as plt\n",
    "%pylab inline\n",
    "import matplotlib\n",
    "%matplotlib inline\n",
    "import pandas as pd\n",
    "from pylab import *\n",
    "import matplotlib.patches as mpatches\n",
    "import numpy\n",
    "import ROOT\n",
    "from ROOT import TH1D, TFile\n",
    "import glob\n",
    "\n",
    "# This line is needed since RDataFrame.AsNumpy references np.object which has been deprecated since NumPy v1.20.00\n",
    "np.object = object"
   ]
  },
  {
   "cell_type": "code",
   "execution_count": null,
   "metadata": {
    "tags": []
   },
   "outputs": [],
   "source": [
    "# obtain template. Contains \"CH3\", \"CH2\", and \"Total\". Our studies only use CH3.\n",
    "import pickle\n",
    "import joblib\n",
    "\n",
    "filename_default_template='/home/spaudel/projects/rrg-mdiamond/spaudel/decay/Templates/Templates_8192.pkl'\n",
    "Templates=joblib.load(filename_default_template) "
   ]
  },
  {
   "cell_type": "code",
   "execution_count": null,
   "metadata": {
    "tags": []
   },
   "outputs": [],
   "source": [
    "# time bins for TESSim traces\n",
    "phononBins = np.arange(-9830400.0, -9830400.0 + 24576 * 800, 800) * 1e-3 # ns -> us"
   ]
  },
  {
   "cell_type": "code",
   "execution_count": null,
   "metadata": {
    "tags": []
   },
   "outputs": [],
   "source": [
    "# Use glob.glob to read in jobs with similar names and file paths. The unique elements of the file name are used as keys\n",
    "# in the dictionary that contains the filenames 'DMCfiles'.\n",
    "\n",
    "temp = \"/home/spaudel/projects/rrg-mdiamond/spaudel/decay/output/2023-07-31 VERIFICATION/all_readback_????_51230731_000000.root\"\n",
    "filenames = sorted(glob.glob(temp))\n",
    "\n",
    "# Identify the unique parameter value from the file path names.\n",
    "\n",
    "values = ['' for i in range(len(filenames))]\n",
    "\n",
    "for i in range(len(filenames)):\n",
    "    for j in range(len(filenames[i])):\n",
    "        if filenames[i][j] != temp[j]:\n",
    "            values[i] += filenames[i][j]\n",
    "\n",
    "values = [float(i) for i in values]\n",
    "print(f'Scaling Parameter: {values}')\n",
    "\n",
    "# dictionary containing file names\n",
    "DMCfiles = {}\n",
    "for i in range(len(filenames)):\n",
    "    DMCfiles.update({values[i]: filenames[i]})\n",
    "    \n",
    "# Prints DMCfiles\n",
    "# pprint.pprint(DMCfiles)\n",
    "    \n",
    "# dictionary to contain data from files\n",
    "d = {}\n",
    "for file in DMCfiles:\n",
    "    d.update({file: {}})\n"
   ]
  },
  {
   "cell_type": "code",
   "execution_count": null,
   "metadata": {
    "tags": []
   },
   "outputs": [],
   "source": [
    "def getCrystalsim(DMCfile, branches):\n",
    "    #### Retrieve CrystalSim Data, Used to get PhononE values for this study ####\n",
    "    branches_dic = {}\n",
    "    for br in branches:\n",
    "        branches_dic.update({br: []})\n",
    "\n",
    "    data = ROOT.RDataFrame('G4SimDir/g4dmcEvent', DMCfile, branches).AsNumpy(branches)\n",
    "    \n",
    "    for event in range(len(data)):\n",
    "        for br in branches:\n",
    "            branches_dic[br].append(data[br][event])\n",
    "            \n",
    "    for br in branches:\n",
    "        branches_dic[br] = np.array(branches_dic[br])\n",
    "    \n",
    "    return tuple(branches_dic.values())"
   ]
  },
  {
   "cell_type": "code",
   "execution_count": null,
   "metadata": {
    "tags": []
   },
   "outputs": [],
   "source": [
    "def getTES(file):\n",
    "    #### Retrieving the TES traces for each channel ####\n",
    "    branches = ['Trace', 'ChanName']\n",
    "    tes1, tes2 = [], []\n",
    "    \n",
    "    data = ROOT.RDataFrame('G4SimDir/g4dmcTES', file, branches).Filter(\"DataType==0\").AsNumpy(branches)\n",
    "    \n",
    "    for i in range(len(data['ChanName'])):\n",
    "        if ''.join(array(data['ChanName'][i])[:3]) == 'Ch1':\n",
    "            tes1.append(data['Trace'][i])\n",
    "        if ''.join(array(data['ChanName'][i])[:3]) == 'Ch2':\n",
    "            tes2.append(data['Trace'][i])\n",
    "\n",
    "    tes1, tes2 = array(tes1), array(tes2)\n",
    "    \n",
    "    #### TES traces are turned rightside up ####\n",
    "    tes1 = array([max(i) - i for i in tes1])\n",
    "    tes2 = array([max(i) - i for i in tes2])\n",
    "    \n",
    "    return tes1, tes2"
   ]
  },
  {
   "cell_type": "code",
   "execution_count": null,
   "metadata": {
    "tags": []
   },
   "outputs": [],
   "source": [
    "def f(tes1):\n",
    "    p1_1, p2_1 = numpy.polyfit(phononBins[12388:12503], log(tes1[12388:12503]), 1) # exponential fit for 80 < t < 172 us\n",
    "    p1_2, p2_2 = numpy.polyfit(phononBins[12913:13288], log(tes1[12913:13288]), 1) # exponential fit for 500 < t < 800 us\n",
    "    \n",
    "    f1 = abs(1/p1_1) # fall-time of first exponential\n",
    "    f2 = abs(1/p1_2) # fall-time of second exponential\n",
    "    \n",
    "    return f1, f2, p2_1, p2_2"
   ]
  },
  {
   "cell_type": "code",
   "execution_count": null,
   "metadata": {
    "tags": []
   },
   "outputs": [],
   "source": [
    "# obtaining needed data for analysis\n",
    "for file in DMCfiles:\n",
    "\n",
    "    d[file]['PhononE'] = getCrystalsim(DMCfiles[file], ['PhononE'])[0]\n",
    "    d[file]['PhononE1'] = array([i[0] for i in d[file]['PhononE']])\n",
    "    d[file]['PhononE2'] = array([i[1] for i in d[file]['PhononE']])\n",
    "    d[file]['PhononE'] = array([sum(i) for i in d[file]['PhononE']])\n",
    "    d[file]['tes1'], d[file]['tes2'] = getTES(DMCfiles[file])\n",
    "        \n",
    "    d[file]['f1_1'], d[file]['f2_1'], d[file]['a1_1'], d[file]['a2_1'] = f(d[file]['tes1'][0])\n",
    "    d[file]['f1_2'], d[file]['f2_2'], d[file]['a1_2'], d[file]['a2_2'] = f(d[file]['tes2'][0])"
   ]
  },
  {
   "cell_type": "code",
   "execution_count": null,
   "metadata": {
    "tags": []
   },
   "outputs": [],
   "source": [
    "# study as observables change as a function of scaling parameter\n",
    "x = list(DMCfiles.keys())\n",
    "x.sort()\n",
    "\n",
    "# two colors to be used for plotting\n",
    "c1 = (0.0, 0.7529411764705882, 0.6235294117647059, 1.0)\n",
    "c2 = (0.0, 0.3764705882352941, 0.8117647058823529, 1.0)\n",
    "\n",
    "# scale factor for template as a function of CH1 phonon energy\n",
    "tempPeak1 = np.array([(25 * (-1200 + sqrt(15) * sqrt(96000 + 73 * d[i]['PhononE1'][0])))/7884 for i in x])\n",
    "\n",
    "# First Fall-Time vs. Scaling Parameter ----------------------------------------------------------------------------------------------------\n",
    "fig, ax = plt.subplots(2, 3, figsize=(20, 12), dpi=300)\n",
    "\n",
    "y1 = array([d[i]['f1_1'] for i in x])\n",
    "y2 = array([d[i]['f1_2'] for i in x])\n",
    "\n",
    "ax[0,0].plot(x, y2, 'x', ls = '-', lw = 1, color = c2, label = 'Ch2')\n",
    "ax[0,0].plot(x, y1, 'x', ls = '-', lw = 1, color = c1, label = 'Ch1')\n",
    "ax[0,0].axhline(70.6, 0, 1, lw = 1, color = 'black', ls = '-.', label = 'Template')\n",
    "ax[0,0].set_xlabel(r'Scaling Parameter')\n",
    "ax[0,0].set_ylabel(r'Fall-time for $80 \\mu s < t < 172 \\mu s$ [$\\mu s$]')\n",
    "ax[0,0].set_title('First Fall-time vs. \\nScaling Parameter')\n",
    "ax[0,0].legend()\n",
    "ax[0,0].set_xscale('log')\n",
    "ax[0,0].ticklabel_format(axis=\"y\", useOffset=False, style='plain')\n",
    "ax[0,0].autoscale()\n",
    "\n",
    "# Second Fall-Time vs. Scaling Parameter ---------------------------------------------------------------------------------------------------\n",
    "\n",
    "y1 = array([d[i]['f2_1'] for i in x])\n",
    "y2 = array([d[i]['f2_2'] for i in x])\n",
    "\n",
    "ax[0,1].plot(x, y2, 'x', ls = '-', lw = 1, color = c2, label = 'Ch2')\n",
    "ax[0,1].plot(x, y1, 'x', ls = '-', lw = 1, color = c1, label = 'Ch1')\n",
    "ax[0,1].axhline(421, 0, 1, lw = 1, color = 'black', ls = '-.', label = 'Template')\n",
    "ax[0,1].set_xlabel(r'Scaling Parameter')\n",
    "ax[0,1].set_ylabel(r'Fall-time for $500 \\mu s < t < 800 \\mu s$ [$\\mu s$]')\n",
    "ax[0,1].set_title('Second Fall-time vs. \\nScaling Parameter')\n",
    "ax[0,1].legend()\n",
    "ax[0,1].set_xscale('log')\n",
    "ax[0,1].ticklabel_format(axis=\"y\", useOffset=False, style='plain')\n",
    "\n",
    "# Second Amplitude vs. Scaling Parameter ---------------------------------------------------------------------------------------------------\n",
    "\n",
    "y1 = array([np.exp(d[i]['a2_1']) for i in x]) * 1e3\n",
    "y2 = array([np.exp(d[i]['a2_2']) for i in x]) * 1e3\n",
    "bins = phononBins[12288: 12288 + 4096]\n",
    "\n",
    "amp = []\n",
    "for i in range(len(tempPeak1)):\n",
    "    amp.append(numpy.polyfit(bins[625:1250], log((Templates['CH3'][4095:-1] * tempPeak1[i])[625:1250]), 1)[1])\n",
    "\n",
    "ax[0,2].plot(x, y2, 'x', ls = '-', lw = 1, color = c2, label = 'Ch2')\n",
    "ax[0,2].plot(x, y1, 'x', ls = '-', lw = 1, color = c1, label = 'Ch1')\n",
    "ax[0,2].plot(x, np.exp(amp) * 1e3, lw = 1, color = 'black', ls = '-.', label = 'Template')\n",
    "ax[0,2].set_xlabel(r'Scaling Parameter')\n",
    "ax[0,2].set_ylabel(r'Amplitude for $500 \\mu s < t < 1000 \\mu s$ [nA]')\n",
    "ax[0,2].set_title('Second Amplitude vs. \\nScaling Parameter')\n",
    "ax[0,2].legend(loc='lower right')\n",
    "ax[0,2].set_xscale('log')\n",
    "ax[0,2].ticklabel_format(axis=\"y\", useOffset=False, style='plain')\n",
    "\n",
    "fig.patch.set_facecolor('white')\n",
    "fig.patch.set_alpha(1)\n",
    "\n",
    "### visual check of pulses with varying Scaling Parameter and comparison to template scaled to the average appropriate scaling for all jobs ###\n",
    "# Zoomed in traces on log scale -----------------------------------------------------------\n",
    "cmap = plt.get_cmap('brg')\n",
    "c = [cmap(i) for i in np.linspace(1, 0.1, len(x))]\n",
    "\n",
    "for i in x:\n",
    "    ax[1,0].plot(phononBins, d[i]['tes1'][0], color = c[x.index(i)], label = '%.2E' % i, lw = 1)\n",
    "    \n",
    "ax[1,0].plot(phononBins[12288: 12288+4096], Templates['CH3'][4095:-1] * mean(tempPeak1), ls = '--', color = 'black', label = 'Template')\n",
    "\n",
    "ax[1,0].set_xlabel(r'Time [$\\mu s$]')\n",
    "ax[1,0].set_ylabel(r'Amplitude [$\\mu A$]')\n",
    "ax[1,0].set_title('CH1 TES Traces for Varying \\nScaling Parameter')\n",
    "ax[1,0].legend(fontsize = 7)\n",
    "ax[1,0].set_xlim(-100, 1000)\n",
    "ax[1,0].set_yscale('log')\n",
    "ax[1,0].set_ylim(pow(10, -3.25), None)\n",
    "\n",
    "# Zoomed out traces on log scale -----------------------------------------------------------\n",
    "cmap = plt.get_cmap('brg')\n",
    "c = [cmap(i) for i in np.linspace(1, 0.1, len(x))]\n",
    "\n",
    "for i in x:\n",
    "    ax[1,1].plot(phononBins, d[i]['tes1'][0], color = c[x.index(i)], label = '%.2E' % i, lw = 1)\n",
    "    \n",
    "ax[1,1].plot(phononBins[12288: 12288+4096], Templates['CH3'][4095:-1] * mean(tempPeak1), \n",
    "         ls = '--', color = 'black', label = 'Template')\n",
    "\n",
    "ax[1,1].set_xlabel(r'Time [$\\mu s$]')\n",
    "ax[1,1].set_ylabel(r'Amplitude [$\\mu A$]')\n",
    "ax[1,1].set_title('CH1 TES Traces for Varying \\nScaling Parameter')\n",
    "ax[1,1].legend(fontsize = 7)\n",
    "ax[1,1].set_xlim(-100, 2000)\n",
    "ax[1,1].set_yscale('log')\n",
    "ax[1,1].set_ylim(pow(10, -7), None)\n",
    "\n",
    "# Zoomed in pulses on linear scale ---------------------------------------------------------\n",
    "cmap = plt.get_cmap('brg')\n",
    "c = [cmap(i) for i in np.linspace(1, 0.1, len(x))]\n",
    "\n",
    "for i in x:\n",
    "    ax[1,2].plot(phononBins, d[i]['tes1'][0], color = c[x.index(i)], label = '%.2E' % i, lw = 1)\n",
    "    \n",
    "ax[1,2].plot(phononBins[12288: 12288+4096], Templates['CH3'][4095:-1] * mean(tempPeak1), \n",
    "         ls = '--', color = 'black', label = 'Template')\n",
    "\n",
    "ax[1,2].set_xlabel(r'Time [$\\mu s$]')\n",
    "ax[1,2].set_ylabel(r'Amplitude [$\\mu A$]')\n",
    "ax[1,2].set_title('CH1 TES Traces for Varying \\nScaling Parameter')\n",
    "ax[1,2].legend(fontsize = 7)\n",
    "ax[1,2].set_xlim(-100, 1000)"
   ]
  },
  {
   "cell_type": "code",
   "execution_count": null,
   "metadata": {},
   "outputs": [],
   "source": []
  }
 ],
 "metadata": {
  "kernelspec": {
   "display_name": "SCDMS V04-12",
   "language": "python",
   "name": "scdms_v04-12"
  },
  "language_info": {
   "codemirror_mode": {
    "name": "ipython",
    "version": 3
   },
   "file_extension": ".py",
   "mimetype": "text/x-python",
   "name": "python",
   "nbconvert_exporter": "python",
   "pygments_lexer": "ipython3",
   "version": "3.8.10"
  }
 },
 "nbformat": 4,
 "nbformat_minor": 4
}
